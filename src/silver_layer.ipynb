{
 "cells": [
  {
   "cell_type": "code",
   "execution_count": null,
   "id": "023a741b",
   "metadata": {
    "vscode": {
     "languageId": "plaintext"
    }
   },
   "outputs": [],
   "source": [
    "# Silver Layer - Clean and Transform\n",
    "# This will be a Databricks notebook\n",
    "\n",
    "from pyspark.sql.functions import col, to_date\n",
    "\n",
    "# Read from bronze\n",
    "df_bronze = spark.table(\"enterprise.sales.raw_sales\")\n",
    "\n",
    "# Clean and transform\n",
    "df_silver = df_bronze.filter(col(\"price\") > 0) \\\n",
    "    .filter(col(\"quantity\") > 0) \\\n",
    "    .withColumn(\"transaction_date\", to_date(col(\"transaction_date\"))) \\\n",
    "    .withColumn(\"total_amount\", col(\"price\") * col(\"quantity\")) \\\n",
    "    .dropDuplicates([\"transaction_id\"])\n",
    "\n",
    "# Write to silver table\n",
    "df_silver.write.mode(\"overwrite\").saveAsTable(\"enterprise.sales.sales_cleaned\")\n",
    "\n",
    "print(f\"Processed {df_silver.count()} records to silver layer\")"
   ]
  }
 ],
 "metadata": {
  "language_info": {
   "name": "python"
  }
 },
 "nbformat": 4,
 "nbformat_minor": 5
}
