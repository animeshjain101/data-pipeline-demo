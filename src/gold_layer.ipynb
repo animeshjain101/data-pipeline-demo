{
 "cells": [
  {
   "cell_type": "code",
   "execution_count": null,
   "id": "a25df724",
   "metadata": {
    "vscode": {
     "languageId": "plaintext"
    }
   },
   "outputs": [],
   "source": [
    "# Gold Layer - Business Aggregations\n",
    "# This will be a Databricks notebook\n",
    "\n",
    "from pyspark.sql.functions import sum, count, avg, date_format\n",
    "\n",
    "# Read from silver\n",
    "df_silver = spark.table(\"enterprise.sales.sales_cleaned\")\n",
    "\n",
    "# Daily sales summary\n",
    "daily_sales = df_silver.groupBy(\n",
    "    date_format(\"transaction_date\", \"yyyy-MM-dd\").alias(\"date\"),\n",
    "    \"product\"\n",
    ").agg(\n",
    "    sum(\"total_amount\").alias(\"total_revenue\"),\n",
    "    count(\"transaction_id\").alias(\"num_transactions\"),\n",
    "    avg(\"total_amount\").alias(\"avg_transaction_value\")\n",
    ")\n",
    "\n",
    "# Write to gold table\n",
    "daily_sales.write.mode(\"overwrite\").saveAsTable(\"gold.daily_sales_summary\")\n",
    "\n",
    "# Product performance\n",
    "product_performance = df_silver.groupBy(\"product\").agg(\n",
    "    sum(\"total_amount\").alias(\"total_revenue\"),\n",
    "    sum(\"quantity\").alias(\"units_sold\"),\n",
    "    avg(\"price\").alias(\"avg_price\")\n",
    ").orderBy(\"total_revenue\", ascending=False)\n",
    "\n",
    "product_performance.write.mode(\"overwrite\").saveAsTable(\"enterprise.sales.product_performance\")\n",
    "\n",
    "print(\"Gold layer aggregations completed\")"
   ]
  }
 ],
 "metadata": {
  "language_info": {
   "name": "python"
  }
 },
 "nbformat": 4,
 "nbformat_minor": 5
}
