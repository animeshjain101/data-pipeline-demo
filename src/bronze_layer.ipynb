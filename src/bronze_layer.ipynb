{
 "cells": [
  {
   "cell_type": "code",
   "execution_count": null,
   "id": "5ff1cffc",
   "metadata": {
    "vscode": {
     "languageId": "plaintext"
    }
   },
   "outputs": [],
   "source": [
    "# Bronze Layer - Raw Data Ingestion\n",
    "# This will be a Databricks notebook\n",
    "\n",
    "# Read raw CSV files\n",
    "df = spark.read.csv(\"/Volumes/omnidata/bucket/data/data_pipeline_demo/raw/*.csv\", header=True, inferSchema=True)\n",
    "\n",
    "# Add ingestion metadata\n",
    "from pyspark.sql.functions import current_timestamp,col\n",
    "\n",
    "df_bronze = df.withColumn(\"ingestion_timestamp\", current_timestamp()) \\\n",
    "              .withColumn(\"source_file\", col('_metadata.file_path'))\n",
    "\n",
    "# Write to bronze table\n",
    "df_bronze.write.mode(\"append\").saveAsTable(\"enterprise.sales.raw_sales\")\n",
    "\n",
    "print(f\"Ingested {df_bronze.count()} records to bronze layer\")"
   ]
  }
 ],
 "metadata": {
  "language_info": {
   "name": "python"
  }
 },
 "nbformat": 4,
 "nbformat_minor": 5
}
